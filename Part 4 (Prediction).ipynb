{
 "cells": [
  {
   "cell_type": "code",
   "execution_count": 26,
   "metadata": {},
   "outputs": [],
   "source": [
    "from reimsiam import ReimsGen\n",
    "import json\n",
    "import torch"
   ]
  },
  {
   "cell_type": "code",
   "execution_count": 27,
   "metadata": {},
   "outputs": [],
   "source": [
    "with open(\"hyperparams.json\", \"r\") as f:\n",
    "    hyperparams = json.load(f)"
   ]
  },
  {
   "cell_type": "code",
   "execution_count": 28,
   "metadata": {},
   "outputs": [],
   "source": [
    "class ReimsGenerator(ReimsGen):\n",
    "    def __init__(self, hyperparams):\n",
    "        letters_vocab = torch.load(hyperparams[\"letters_vocab\"])\n",
    "        super().__init__(hyperparams[\"model_name\"], letters_vocab, None)\n",
    "        self.letters_vocab = letters_vocab\n",
    "        self.words_vocab = torch.load(hyperparams[\"words_vocab\"])\n",
    "        self.word_embs = torch.nn.Embedding(len(self.words_vocab), embedding_dim=self.linear.out_features)\n",
    "        self.load_state_dict(torch.load(hyperparams[\"model_name_final\"]))\n",
    "        self.maxlen = hyperparams[\"maxlen\"]"
   ]
  },
  {
   "cell_type": "code",
   "execution_count": 29,
   "metadata": {},
   "outputs": [],
   "source": [
    "generator = ReimsGenerator(hyperparams)"
   ]
  },
  {
   "cell_type": "code",
   "execution_count": 30,
   "metadata": {},
   "outputs": [
    {
     "data": {
      "text/plain": [
       "['verehrer', 'glaubenslehrer', 'fehler', 'erwerber', 'jeder']"
      ]
     },
     "execution_count": 30,
     "metadata": {},
     "output_type": "execute_result"
    }
   ],
   "source": [
    "generator.generate_reim(\"Kopfhörer\")"
   ]
  },
  {
   "cell_type": "code",
   "execution_count": 31,
   "metadata": {},
   "outputs": [
    {
     "data": {
      "text/plain": [
       "['raum', 'saum', 'traum', 'flaum', 'baum']"
      ]
     },
     "execution_count": 31,
     "metadata": {},
     "output_type": "execute_result"
    }
   ],
   "source": [
    "generator.generate_reim(\"Schaum\")"
   ]
  },
  {
   "cell_type": "code",
   "execution_count": 32,
   "metadata": {},
   "outputs": [],
   "source": [
    "class OmniGen(ReimsGen):\n",
    "    def __init__(self, hyperparams):\n",
    "        letters_vocab = torch.load(hyperparams[\"letters_vocab_omnistanza\"])\n",
    "        super().__init__(hyperparams[\"model_name_omnistanza\"], letters_vocab, None)\n",
    "        self.letters_vocab = letters_vocab\n",
    "        self.words_vocab = torch.load(hyperparams[\"omnistanza_words_vocab\"])\n",
    "        self.word_embs = torch.nn.Embedding(len(self.words_vocab), embedding_dim=self.linear.out_features)\n",
    "        self.load_state_dict(torch.load(hyperparams[\"omnistanza_final\"]))\n",
    "        self.maxlen = hyperparams[\"maxlen\"]"
   ]
  },
  {
   "cell_type": "code",
   "execution_count": 33,
   "metadata": {},
   "outputs": [],
   "source": [
    "omnigen = OmniGen(hyperparams)"
   ]
  },
  {
   "cell_type": "code",
   "execution_count": 34,
   "metadata": {},
   "outputs": [
    {
     "data": {
      "text/plain": [
       "['anbete', 'klagete', 'agnette', 'tapete', 'annette']"
      ]
     },
     "execution_count": 34,
     "metadata": {},
     "output_type": "execute_result"
    }
   ],
   "source": [
    "omnigen.generate_reim(\"planete\")"
   ]
  },
  {
   "cell_type": "code",
   "execution_count": 35,
   "metadata": {},
   "outputs": [
    {
     "data": {
      "text/plain": [
       "['wellenschaum', 'champagnerschaum', 'seifenschaum', 'flutenschaum', 'pflaum']"
      ]
     },
     "execution_count": 35,
     "metadata": {},
     "output_type": "execute_result"
    }
   ],
   "source": [
    "omnigen.generate_reim(\"Schaum\")"
   ]
  },
  {
   "cell_type": "code",
   "execution_count": 36,
   "metadata": {},
   "outputs": [
    {
     "data": {
      "text/plain": [
       "['wurfapfel', 'tafel', 'kapsel', 'raphael', 'kaspel']"
      ]
     },
     "execution_count": 36,
     "metadata": {},
     "output_type": "execute_result"
    }
   ],
   "source": [
    "omnigen.generate_reim(\"Apfel\")"
   ]
  },
  {
   "cell_type": "code",
   "execution_count": 37,
   "metadata": {},
   "outputs": [
    {
     "data": {
      "text/plain": [
       "['pantoffel', 'stoffel', 'pofel', 'marmorhell', 'schofel']"
      ]
     },
     "execution_count": 37,
     "metadata": {},
     "output_type": "execute_result"
    }
   ],
   "source": [
    "omnigen.generate_reim(\"Kartoffel\")"
   ]
  },
  {
   "cell_type": "code",
   "execution_count": 38,
   "metadata": {},
   "outputs": [
    {
     "data": {
      "text/plain": [
       "['bier', 'vier', 'pier', 'schier', 'brevier']"
      ]
     },
     "execution_count": 38,
     "metadata": {},
     "output_type": "execute_result"
    }
   ],
   "source": [
    "omnigen.generate_reim(\"Bier\")"
   ]
  },
  {
   "cell_type": "code",
   "execution_count": 39,
   "metadata": {},
   "outputs": [
    {
     "data": {
      "text/plain": [
       "['liese', 'hiese', 'priese', 'erdriese', 'waldwiese']"
      ]
     },
     "execution_count": 39,
     "metadata": {},
     "output_type": "execute_result"
    }
   ],
   "source": [
    "omnigen.generate_reim(\"Wiese\")"
   ]
  },
  {
   "cell_type": "code",
   "execution_count": 40,
   "metadata": {},
   "outputs": [
    {
     "data": {
      "text/plain": [
       "['brennen', 'flennen', 'berennen', 'gönnten', 'tennen']"
      ]
     },
     "execution_count": 40,
     "metadata": {},
     "output_type": "execute_result"
    }
   ],
   "source": [
    "omnigen.generate_reim(\"rennen\")"
   ]
  },
  {
   "cell_type": "code",
   "execution_count": null,
   "metadata": {},
   "outputs": [],
   "source": []
  },
  {
   "cell_type": "code",
   "execution_count": null,
   "metadata": {},
   "outputs": [],
   "source": []
  }
 ],
 "metadata": {
  "kernelspec": {
   "display_name": "Python 3",
   "language": "python",
   "name": "python3"
  },
  "language_info": {
   "codemirror_mode": {
    "name": "ipython",
    "version": 3
   },
   "file_extension": ".py",
   "mimetype": "text/x-python",
   "name": "python",
   "nbconvert_exporter": "python",
   "pygments_lexer": "ipython3",
   "version": "3.8.3"
  }
 },
 "nbformat": 4,
 "nbformat_minor": 4
}
