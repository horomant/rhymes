{
 "cells": [
  {
   "cell_type": "code",
   "execution_count": 1,
   "metadata": {},
   "outputs": [],
   "source": [
    "from reimsiam import ReimsGen\n",
    "import json\n",
    "import torch"
   ]
  },
  {
   "cell_type": "code",
   "execution_count": 2,
   "metadata": {},
   "outputs": [],
   "source": [
    "with open(\"hyperparams.json\", \"r\") as f:\n",
    "    hyperparams = json.load(f)"
   ]
  },
  {
   "cell_type": "code",
   "execution_count": 3,
   "metadata": {},
   "outputs": [],
   "source": [
    "class ReimsGenerator(ReimsGen):\n",
    "    def __init__(self, hyperparams):\n",
    "        letters_vocab = torch.load(hyperparams[\"letters_vocab\"])\n",
    "        super().__init__(hyperparams[\"model_name\"], letters_vocab, None)\n",
    "        self.letters_vocab = letters_vocab\n",
    "        self.words_vocab = torch.load(hyperparams[\"words_vocab\"])\n",
    "        self.word_embs = torch.nn.Embedding(len(self.words_vocab), embedding_dim=self.linear.out_features)\n",
    "        self.load_state_dict(torch.load(hyperparams[\"model_name_final\"]))\n",
    "        self.maxlen = hyperparams[\"maxlen\"]"
   ]
  },
  {
   "cell_type": "code",
   "execution_count": 4,
   "metadata": {},
   "outputs": [],
   "source": [
    "generator = ReimsGenerator(hyperparams)"
   ]
  },
  {
   "cell_type": "code",
   "execution_count": 7,
   "metadata": {},
   "outputs": [],
   "source": [
    "class OmniGen(ReimsGen):\n",
    "    def __init__(self, hyperparams):\n",
    "        letters_vocab = torch.load(hyperparams[\"letters_vocab_omnistanza\"])\n",
    "        super().__init__(hyperparams[\"model_name_omnistanza\"], letters_vocab, None)\n",
    "        self.letters_vocab = letters_vocab\n",
    "        self.words_vocab = torch.load(hyperparams[\"omnistanza_words_vocab\"])\n",
    "        self.word_embs = torch.nn.Embedding(len(self.words_vocab), embedding_dim=self.linear.out_features)\n",
    "        self.load_state_dict(torch.load(hyperparams[\"omnistanza_final\"]))\n",
    "        self.maxlen = hyperparams[\"maxlen\"]"
   ]
  },
  {
   "cell_type": "code",
   "execution_count": 8,
   "metadata": {},
   "outputs": [],
   "source": [
    "omnigen = OmniGen(hyperparams)"
   ]
  },
  {
   "cell_type": "markdown",
   "metadata": {},
   "source": [
    "**\"Eingabe\" mit dem gewünschten Wort ersetzen**"
   ]
  },
  {
   "cell_type": "code",
   "execution_count": 18,
   "metadata": {},
   "outputs": [
    {
     "data": {
      "text/plain": [
       "['hingabe', 'maiengabe', 'hinabe', 'zeitenrabe', 'aufgabe']"
      ]
     },
     "execution_count": 18,
     "metadata": {},
     "output_type": "execute_result"
    }
   ],
   "source": [
    "omnigen.generate_reim(\"Eingabe\") "
   ]
  },
  {
   "cell_type": "code",
   "execution_count": null,
   "metadata": {},
   "outputs": [],
   "source": []
  }
 ],
 "metadata": {
  "kernelspec": {
   "display_name": "Python 3",
   "language": "python",
   "name": "python3"
  },
  "language_info": {
   "codemirror_mode": {
    "name": "ipython",
    "version": 3
   },
   "file_extension": ".py",
   "mimetype": "text/x-python",
   "name": "python",
   "nbconvert_exporter": "python",
   "pygments_lexer": "ipython3",
   "version": "3.8.3"
  }
 },
 "nbformat": 4,
 "nbformat_minor": 4
}
