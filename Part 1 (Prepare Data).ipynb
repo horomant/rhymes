{
 "cells": [
  {
   "cell_type": "code",
   "execution_count": 1,
   "metadata": {},
   "outputs": [],
   "source": [
    "import json\n",
    "from collections import defaultdict\n",
    "import pandas as pd"
   ]
  },
  {
   "cell_type": "code",
   "execution_count": 3,
   "metadata": {},
   "outputs": [],
   "source": [
    "with open(\"dlk.v5.german.poetry.corpus.full.json\", encoding=\"utf-8\") as f:\n",
    "    corpus = json.load(f)"
   ]
  },
  {
   "cell_type": "code",
   "execution_count": 4,
   "metadata": {},
   "outputs": [],
   "source": [
    "stanta_counts = defaultdict(lambda: 0)\n",
    "corpus_2 = defaultdict(lambda: [])\n",
    "corpus_4 = defaultdict(lambda: [])\n",
    "for poem in corpus:\n",
    "    poem_data = corpus[poem]\n",
    "    poem_text = poem_data['poem']\n",
    "    for stanza in poem_text:\n",
    "        stanta_counts[len(poem_text[stanza])] +=1\n",
    "        if len(poem_text[stanza]) == 2:\n",
    "            corpus_2[poem].append(poem_text[stanza])"
   ]
  },
  {
   "cell_type": "code",
   "execution_count": 5,
   "metadata": {
    "scrolled": false
   },
   "outputs": [],
   "source": [
    "corpus_2_words = []\n",
    "for poem in corpus_2:\n",
    "    pub_year = int(corpus[poem]['metadata']['pub_year'])\n",
    "    if pub_year > 1750 and pub_year < 1900:\n",
    "        for i, stanza in enumerate(corpus_2[poem]):\n",
    "            skipstaza = False\n",
    "            if len(stanza['line.1']['tokens']) != len(stanza['line.1']['token_info']): \n",
    "                continue\n",
    "            if len(stanza['line.2']['tokens']) != len(stanza['line.2']['token_info']): \n",
    "                continue\n",
    "            #--------------------------------------------------\n",
    "            n = len(stanza['line.1']['token_info']) - 1\n",
    "            while stanza['line.1']['token_info'][n] == 'punct':\n",
    "                n -= 1\n",
    "                if n < 0:\n",
    "                    skipstaza = True\n",
    "                    break\n",
    "            else:\n",
    "                word1 = stanza['line.1']['tokens'][n]\n",
    "                \n",
    "            #--------------------------------------------------    \n",
    "            n = len(stanza['line.2']['token_info']) - 1\n",
    "            while stanza['line.2']['token_info'][n] == 'punct':\n",
    "                n -= 1\n",
    "                if n < 0:\n",
    "                    skipstaza = True\n",
    "                    break\n",
    "            else:\n",
    "                word2 = stanza['line.2']['tokens'][n] \n",
    "                \n",
    "            #--------------------------------------------------\n",
    "            if not skipstaza:\n",
    "                corpus_2_words.append((word1.lower().replace(\"·\", \"\"), word2.lower().replace(\"·\", \"\")))"
   ]
  },
  {
   "cell_type": "code",
   "execution_count": 6,
   "metadata": {},
   "outputs": [],
   "source": [
    "df = pd.DataFrame(corpus_2_words, columns=[\"word_1\", \"word_2\"])"
   ]
  },
  {
   "cell_type": "code",
   "execution_count": 7,
   "metadata": {
    "scrolled": true
   },
   "outputs": [],
   "source": [
    "df.to_csv(\"reims.csv\")"
   ]
  }
 ],
 "metadata": {
  "kernelspec": {
   "display_name": "Python 3",
   "language": "python",
   "name": "python3"
  },
  "language_info": {
   "codemirror_mode": {
    "name": "ipython",
    "version": 3
   },
   "file_extension": ".py",
   "mimetype": "text/x-python",
   "name": "python",
   "nbconvert_exporter": "python",
   "pygments_lexer": "ipython3",
   "version": "3.8.3"
  }
 },
 "nbformat": 4,
 "nbformat_minor": 4
}
