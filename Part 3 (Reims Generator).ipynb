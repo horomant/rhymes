{
 "cells": [
  {
   "cell_type": "code",
   "execution_count": 1,
   "metadata": {},
   "outputs": [],
   "source": [
    "import torch\n",
    "import pandas as pd\n",
    "import json\n",
    "from torchtext.vocab import vocab\n",
    "from collections import Counter\n",
    "from torch.utils.data import Dataset, DataLoader\n",
    "from torch.nn import CosineSimilarity as cosine\n",
    "from reimsiam import ReimsGen"
   ]
  },
  {
   "cell_type": "markdown",
   "metadata": {},
   "source": [
    "### Загрузка Vocab"
   ]
  },
  {
   "cell_type": "code",
   "execution_count": 2,
   "metadata": {},
   "outputs": [],
   "source": [
    "with open(\"hyperparams.json\", \"r\") as f:\n",
    "    hyperparams = json.load(f)\n",
    "    \n",
    "letters_vocab = torch.load(\"letters_vocab\")"
   ]
  },
  {
   "cell_type": "markdown",
   "metadata": {},
   "source": [
    "### Creating Words Vocab"
   ]
  },
  {
   "cell_type": "code",
   "execution_count": 3,
   "metadata": {},
   "outputs": [
    {
     "data": {
      "text/plain": [
       "{'numnegs': 3,\n",
       " 'maxlen': 10,\n",
       " 'model_name': 'Siamnet_params',\n",
       " 'model_name_final': 'reims_gen_final',\n",
       " 'words_vocab': 'words_vocab',\n",
       " 'letters_vocab': 'letters_vocab',\n",
       " 'model_name_omnistanza': 'Siamnet_params_omnistanza',\n",
       " 'letters_vocab_omnistanza': 'letters_vocab_omnistanza'}"
      ]
     },
     "execution_count": 3,
     "metadata": {},
     "output_type": "execute_result"
    }
   ],
   "source": [
    "hyperparams"
   ]
  },
  {
   "cell_type": "code",
   "execution_count": 4,
   "metadata": {},
   "outputs": [],
   "source": [
    "reims_gen = ReimsGen(hyperparams[\"model_name\"], letters_vocab, hyperparams[\"maxlen\"])\n",
    "\n",
    "reims_gen.preprocess_data(\"reims.csv\", 100)\n",
    "\n",
    "hyperparams[\"model_name_final\"] = \"reims_gen_final\"\n",
    "hyperparams[\"words_vocab\"] = \"words_vocab\"\n",
    "hyperparams[\"letters_vocab\"] = \"letters_vocab\""
   ]
  },
  {
   "cell_type": "code",
   "execution_count": 5,
   "metadata": {},
   "outputs": [],
   "source": [
    "torch.save(reims_gen.state_dict(), hyperparams[\"model_name_final\"])\n",
    "torch.save(reims_gen.words_vocab, hyperparams[\"words_vocab\"])"
   ]
  },
  {
   "cell_type": "code",
   "execution_count": 17,
   "metadata": {},
   "outputs": [
    {
     "data": {
      "text/plain": [
       "['raum', 'saum', 'traum', 'flaum', 'baum']"
      ]
     },
     "execution_count": 17,
     "metadata": {},
     "output_type": "execute_result"
    }
   ],
   "source": [
    "reims_gen.generate_reim(\"Schaum\")"
   ]
  },
  {
   "cell_type": "code",
   "execution_count": 18,
   "metadata": {},
   "outputs": [
    {
     "data": {
      "text/plain": [
       "['beete', 'wehe', 'gebete', 'täte', 'we']"
      ]
     },
     "execution_count": 18,
     "metadata": {},
     "output_type": "execute_result"
    }
   ],
   "source": [
    "reims_gen.generate_reim(\"planete\")"
   ]
  },
  {
   "cell_type": "code",
   "execution_count": 24,
   "metadata": {},
   "outputs": [],
   "source": [
    "with open(\"hyperparams.json\", \"w\") as f:\n",
    "    json.dump(hyperparams, f)"
   ]
  },
  {
   "cell_type": "markdown",
   "metadata": {},
   "source": [
    "## Omnistanza"
   ]
  },
  {
   "cell_type": "code",
   "execution_count": 10,
   "metadata": {},
   "outputs": [],
   "source": [
    "with open(\"hyperparams.json\", \"r\") as f:\n",
    "    hyperparams = json.load(f)\n",
    "    \n",
    "letters_vocab = torch.load('letters_vocab_omnistanza')"
   ]
  },
  {
   "cell_type": "code",
   "execution_count": 11,
   "metadata": {},
   "outputs": [],
   "source": [
    "omni_gen = ReimsGen(hyperparams['model_name_omnistanza'], letters_vocab, hyperparams[\"maxlen\"])\n",
    "\n",
    "omni_gen.preprocess_data(\"reims_pairs.csv\", 100)\n",
    "\n",
    "hyperparams[\"omnistanza_final\"] = \"reims_omni_gen\"\n",
    "hyperparams[\"omnistanza_words_vocab\"] = \"omni_vocab\""
   ]
  },
  {
   "cell_type": "code",
   "execution_count": 12,
   "metadata": {},
   "outputs": [
    {
     "data": {
      "text/plain": [
       "['wellenschaum', 'champagnerschaum', 'seifenschaum', 'flutenschaum', 'pflaum']"
      ]
     },
     "execution_count": 12,
     "metadata": {},
     "output_type": "execute_result"
    }
   ],
   "source": [
    "omni_gen.generate_reim(\"Schaum\")"
   ]
  },
  {
   "cell_type": "code",
   "execution_count": 13,
   "metadata": {},
   "outputs": [
    {
     "data": {
      "text/plain": [
       "['anbete', 'klagete', 'agnette', 'tapete', 'annette']"
      ]
     },
     "execution_count": 13,
     "metadata": {},
     "output_type": "execute_result"
    }
   ],
   "source": [
    "omni_gen.generate_reim(\"planete\")"
   ]
  },
  {
   "cell_type": "code",
   "execution_count": 14,
   "metadata": {},
   "outputs": [],
   "source": [
    "torch.save(omni_gen.state_dict(), hyperparams[\"omnistanza_final\"])\n",
    "torch.save(omni_gen.words_vocab, hyperparams[\"omnistanza_words_vocab\"])"
   ]
  },
  {
   "cell_type": "code",
   "execution_count": 15,
   "metadata": {},
   "outputs": [
    {
     "data": {
      "text/plain": [
       "{'numnegs': 3,\n",
       " 'maxlen': 10,\n",
       " 'model_name': 'Siamnet_params',\n",
       " 'model_name_final': 'reims_gen_final',\n",
       " 'words_vocab': 'words_vocab',\n",
       " 'letters_vocab': 'letters_vocab',\n",
       " 'model_name_omnistanza': 'Siamnet_params_omnistanza',\n",
       " 'letters_vocab_omnistanza': 'letters_vocab_omnistanza',\n",
       " 'omnistanza_final': 'reims_omni_gen',\n",
       " 'omnistanza_words_vocab': 'omni_vocab'}"
      ]
     },
     "execution_count": 15,
     "metadata": {},
     "output_type": "execute_result"
    }
   ],
   "source": [
    "hyperparams"
   ]
  },
  {
   "cell_type": "code",
   "execution_count": 16,
   "metadata": {},
   "outputs": [],
   "source": [
    "with open(\"hyperparams.json\", \"w\") as f:\n",
    "    json.dump(hyperparams, f)"
   ]
  },
  {
   "cell_type": "code",
   "execution_count": null,
   "metadata": {},
   "outputs": [],
   "source": []
  }
 ],
 "metadata": {
  "kernelspec": {
   "display_name": "Python 3",
   "language": "python",
   "name": "python3"
  },
  "language_info": {
   "codemirror_mode": {
    "name": "ipython",
    "version": 3
   },
   "file_extension": ".py",
   "mimetype": "text/x-python",
   "name": "python",
   "nbconvert_exporter": "python",
   "pygments_lexer": "ipython3",
   "version": "3.8.3"
  }
 },
 "nbformat": 4,
 "nbformat_minor": 4
}
